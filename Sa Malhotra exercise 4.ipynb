{
 "cells": [
  {
   "cell_type": "markdown",
   "metadata": {},
   "source": [
    "Exercise 1: Make an empty list and call it names"
   ]
  },
  {
   "cell_type": "code",
   "execution_count": 1,
   "metadata": {},
   "outputs": [],
   "source": [
    "names=[]"
   ]
  },
  {
   "cell_type": "markdown",
   "metadata": {},
   "source": [
    "Exercise 2: Make names filled with names of 5 people: Hannah, Victor, Sam, James, Sarah"
   ]
  },
  {
   "cell_type": "code",
   "execution_count": 2,
   "metadata": {},
   "outputs": [],
   "source": [
    "names=[\"Hannah\", \"Victor\", \"Sam\", \"James\",\"Sarah\"]"
   ]
  },
  {
   "cell_type": "code",
   "execution_count": 3,
   "metadata": {},
   "outputs": [
    {
     "data": {
      "text/plain": [
       "['Hannah', 'Victor', 'Sam', 'James', 'Sarah']"
      ]
     },
     "execution_count": 3,
     "metadata": {},
     "output_type": "execute_result"
    }
   ],
   "source": [
    "names"
   ]
  },
  {
   "cell_type": "markdown",
   "metadata": {},
   "source": [
    "Exercise 3: Make names sort in reverse. Print out the list using a for-loop"
   ]
  },
  {
   "cell_type": "code",
   "execution_count": 11,
   "metadata": {},
   "outputs": [
    {
     "name": "stdout",
     "output_type": "stream",
     "text": [
      "['victor', 'Victor', 'Sarah', 'Sam', 'James', 'Hannah']\n"
     ]
    }
   ],
   "source": [
    "names.sort(reverse=True)\n",
    "print(names)"
   ]
  },
  {
   "cell_type": "markdown",
   "metadata": {},
   "source": [
    "Exercise 4: Make names sorted alphabetically. Print out the list using while loop"
   ]
  },
  {
   "cell_type": "code",
   "execution_count": 8,
   "metadata": {},
   "outputs": [
    {
     "data": {
      "text/plain": [
       "['Hannah', 'James', 'Sam', 'Sarah', 'Victor']"
      ]
     },
     "execution_count": 8,
     "metadata": {},
     "output_type": "execute_result"
    }
   ],
   "source": [
    "sorted(names)"
   ]
  },
  {
   "cell_type": "markdown",
   "metadata": {},
   "source": [
    "Exercise 5: Pull out the fourth item from names and print it out"
   ]
  },
  {
   "cell_type": "code",
   "execution_count": 14,
   "metadata": {},
   "outputs": [
    {
     "name": "stdout",
     "output_type": "stream",
     "text": [
      "['Sarah', 'Sam', 'James', 'Hannah', 'victor']\n"
     ]
    }
   ],
   "source": [
    "names.remove(\"Victor\")\n",
    "print(names)"
   ]
  },
  {
   "cell_type": "markdown",
   "metadata": {},
   "source": [
    "Exercise 6: Pull out the first item from names and print it out"
   ]
  },
  {
   "cell_type": "code",
   "execution_count": 15,
   "metadata": {},
   "outputs": [
    {
     "name": "stdout",
     "output_type": "stream",
     "text": [
      "['Sarah', 'Sam', 'James', 'victor']\n"
     ]
    }
   ],
   "source": [
    "names.remove(\"Hannah\")\n",
    "print(names)"
   ]
  },
  {
   "cell_type": "markdown",
   "metadata": {},
   "source": [
    "Exercise 7: Make a variable named fruits that contains a string \"Apples, Oranges, Bananas, Pineapples, Persimmons, Dragonfruit\" and make it into a list splitting it by the commas."
   ]
  },
  {
   "cell_type": "code",
   "execution_count": 18,
   "metadata": {},
   "outputs": [
    {
     "name": "stdout",
     "output_type": "stream",
     "text": [
      "Apples, Oranges, Banannas, Pineapples, Persimmons, Dragonfruit\n",
      "['Apples', 'Oranges', 'Banannas', 'Pineapples', 'Persimmons', 'Dragonfruit']\n"
     ]
    }
   ],
   "source": [
    "fruits=\"Apples, Oranges, Banannas, Pineapples, Persimmons, Dragonfruit\"\n",
    "print(fruits)\n",
    "fruits=[\"Apples\",\"Oranges\",\"Banannas\",\"Pineapples\",\"Persimmons\",\"Dragonfruit\"]\n",
    "print(fruits)"
   ]
  },
  {
   "cell_type": "markdown",
   "metadata": {},
   "source": [
    "Exercise 8: Create a list of the first 10 square numbers. i.e. the square of each integer from 1 to 10. "
   ]
  },
  {
   "cell_type": "code",
   "execution_count": 20,
   "metadata": {},
   "outputs": [
    {
     "name": "stdout",
     "output_type": "stream",
     "text": [
      "[1, 4, 9, 16, 25, 36, 49, 64, 81, 100]\n"
     ]
    }
   ],
   "source": [
    "square_numbers=[1, 4, 9, 16, 25, 36, 49, 64, 81, 100]\n",
    "print(square_numbers)"
   ]
  },
  {
   "cell_type": "markdown",
   "metadata": {},
   "source": [
    "Exercise 9: Create a multiplication table from 1 to 10"
   ]
  },
  {
   "cell_type": "code",
   "execution_count": 23,
   "metadata": {},
   "outputs": [
    {
     "name": "stdout",
     "output_type": "stream",
     "text": [
      "1\n",
      "2\n",
      "3\n",
      "4\n",
      "5\n",
      "6\n",
      "7\n",
      "8\n",
      "9\n",
      "10\n"
     ]
    }
   ],
   "source": [
    "print(1*1)\n",
    "print(1*2)\n",
    "print(1*3)\n",
    "print(1*4)\n",
    "print(1*5)\n",
    "print(1*6)\n",
    "print(1*7)\n",
    "print(1*8)\n",
    "print(1*9)\n",
    "print(1*10)\n"
   ]
  },
  {
   "cell_type": "markdown",
   "metadata": {},
   "source": [
    "Exercise 10: Write a program that gets test scores from a user and then calculates and displays the average of the scores that have been enter. The output of the program should show the original scores and the average. "
   ]
  },
  {
   "cell_type": "code",
   "execution_count": 24,
   "metadata": {},
   "outputs": [
    {
     "name": "stdout",
     "output_type": "stream",
     "text": [
      "enter the test score80\n"
     ]
    },
    {
     "data": {
      "text/plain": [
       "0.8"
      ]
     },
     "execution_count": 24,
     "metadata": {},
     "output_type": "execute_result"
    }
   ],
   "source": [
    "test_score=input(\"enter the test score \")\n",
    "test_score=int(test_score)\n",
    "test_score/100"
   ]
  },
  {
   "cell_type": "markdown",
   "metadata": {},
   "source": [
    "Challenge:\n",
    "Write a program that maintains a list of movies, and the user can list all the movies, add a movie to the list, or delete a movie from the list.\n",
    "\n",
    "Example\n",
    "\n",
    "###### COMMAND MENU\n",
    "```\n",
    "list - list all movies\n",
    "add - add a movie\n",
    "del - delete a movie\n",
    "exit - exit program \n",
    "```\n",
    "\n",
    "###### Command: list\n",
    "``` \n",
    " 1. Toy Story\n",
    " 2. Lion King\n",
    " 3. Frozen\n",
    " ```\n",
    "\n",
    "###### Command: add\n",
    " ```\n",
    " Name: Snow White\n",
    " Snow White was added.\n",
    " ```\n",
    "\n",
    "###### Command: del\n",
    "```\n",
    " Number: 3\n",
    " Frozen was deleted.```\n",
    "\n"
   ]
  },
  {
   "cell_type": "code",
   "execution_count": 54,
   "metadata": {},
   "outputs": [
    {
     "name": "stdout",
     "output_type": "stream",
     "text": [
      "what is your fave movie Home Alone\n",
      "(' Home Alone', ['Finding Nemo', 'Finding Dory', 'Toy Story'])\n",
      "what movie do you want to deleteFinding Nemo\n",
      "ayo dumbass pick a movie on the list \n",
      "do you want to continue(hint say y)n\n"
     ]
    },
    {
     "ename": "SyntaxError",
     "evalue": "'break' outside loop (<ipython-input-54-86d38001355f>, line 13)",
     "output_type": "error",
     "traceback": [
      "\u001b[1;36m  File \u001b[1;32m\"<ipython-input-54-86d38001355f>\"\u001b[1;36m, line \u001b[1;32m13\u001b[0m\n\u001b[1;33m    break\u001b[0m\n\u001b[1;37m    ^\u001b[0m\n\u001b[1;31mSyntaxError\u001b[0m\u001b[1;31m:\u001b[0m 'break' outside loop\n"
     ]
    }
   ],
   "source": [
    "movie_list=[\"Finding Nemo\", \"Finding Dory\",\"Toy Story\"]\n",
    "add_movie_to_list=input(\"what is your fave movie\")\n",
    "print(f\"{add_movie_to_list, movie_list}\" )\n",
    "delete_movie_from_list=input(\"what movie do you want to delete\")\n",
    "if delete_movie_from_list !=movie_list or movie_list:\n",
    "    print(\"ayo dumbass pick a movie on the list \")\n",
    "if delete_movie_from_list==add_movie_to_list or movie_list:\n",
    "    (movie_list.remove(delete_movie_from_list))\n",
    "choice=\"y\"\n",
    "choice=input(\"do you want to continue(hint say y)\")\n",
    "if choice==\"n\":\n",
    "    print(\"goodbye\")\n",
    "    break\n",
    "   \n",
    " \n"
   ]
  },
  {
   "cell_type": "code",
   "execution_count": null,
   "metadata": {},
   "outputs": [],
   "source": []
  },
  {
   "cell_type": "code",
   "execution_count": null,
   "metadata": {},
   "outputs": [],
   "source": []
  }
 ],
 "metadata": {
  "kernelspec": {
   "display_name": "Python 3",
   "language": "python",
   "name": "python3"
  },
  "language_info": {
   "codemirror_mode": {
    "name": "ipython",
    "version": 3
   },
   "file_extension": ".py",
   "mimetype": "text/x-python",
   "name": "python",
   "nbconvert_exporter": "python",
   "pygments_lexer": "ipython3",
   "version": "3.8.5"
  }
 },
 "nbformat": 4,
 "nbformat_minor": 4
}
