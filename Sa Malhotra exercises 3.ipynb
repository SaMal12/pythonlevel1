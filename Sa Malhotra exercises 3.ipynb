{
 "cells": [
  {
   "cell_type": "markdown",
   "metadata": {},
   "source": [
    "Exercise 1. Ask for a color and store that answer. \n",
    "If the answer is grey then print out you found Victor's favorite color.\n",
    "Otherwise print out the color is not Victor's favorite color."
   ]
  },
  {
   "cell_type": "code",
   "execution_count": 2,
   "metadata": {},
   "outputs": [
    {
     "name": "stdout",
     "output_type": "stream",
     "text": [
      "what is victors favorite colorgreen\n",
      "sorry but his fave color is grey\n"
     ]
    }
   ],
   "source": [
    "victors_fave_color=\"grey\"\n",
    "color=input(\"what is victors favorite color\")\n",
    "if color==victors_fave_color:\n",
    "    print(\"congrats you found victors fave color\")\n",
    "else:\n",
    "    print(\"sorry but his fave color is grey\")"
   ]
  },
  {
   "cell_type": "markdown",
   "metadata": {},
   "source": [
    "Exercise 2. Modify code from above exercise 1 and add in more conditions for other colors such as red, green, blue and then, write statements for them. "
   ]
  },
  {
   "cell_type": "code",
   "execution_count": 17,
   "metadata": {},
   "outputs": [
    {
     "name": "stdout",
     "output_type": "stream",
     "text": [
      "what is victors favorite colorteal\n",
      "congrats now lets vibe together\n"
     ]
    }
   ],
   "source": [
    "#?\n",
    "victors_fave_color1=(\"grey\" or \"red\" or \"green\" or \"blue\")\n",
    "color=input(\"what is victors favorite color \")\n",
    "if color==(\"red\") or (\"grey\") or (\"blue\") or (\"green\"):\n",
    "    print(\"congrats now lets vibe together\")\n",
    "else:\n",
    "    print(f\"sorry but victors fave color is{victors_fave_color1}\")"
   ]
  },
  {
   "cell_type": "markdown",
   "metadata": {},
   "source": [
    "Exercise 3. Ask for an exam score and store that number. If the number is greater than 100, then print out 'You cannot have an exam score higher than 100'. If the number doesn't exceeed 100 but is greater than or equal to 75, then print out 'You did great on your exam!'. Otherwise if they scored lower than 75, then print out 'You need to study harder'."
   ]
  },
  {
   "cell_type": "code",
   "execution_count": 22,
   "metadata": {},
   "outputs": [
    {
     "name": "stdout",
     "output_type": "stream",
     "text": [
      "how did you do on the test80\n",
      "nice job\n"
     ]
    }
   ],
   "source": [
    "exam_score=input(\"how did you do on the test\")\n",
    "exam_score=int(exam_score)\n",
    "if exam_score>=75:\n",
    "    print(\"nice job\")\n",
    "else:\n",
    "    print(\"you need to study harder\")\n",
    "if exam_score>=100:\n",
    "    print(\"niceeee jobbb\")"
   ]
  },
  {
   "cell_type": "markdown",
   "metadata": {},
   "source": [
    "Exercise 4. \n",
    "Define two functions: \n",
    "    - a function that takes 3 arguements and returns the sum of three arguements\n",
    "    - a function that takes 2 arguements and returns the result of 1st arguement multiplied by 2nd arguement\n",
    "\n",
    "Then tell the user to choose option 1 to add three numbers or option 2 to multiply two numbers.\n",
    "If the user choose option 1 then call the addition function, otherwise if they choose option 2 then call the mulitplication function.  If the user choose anything other than option 1 or 2, then generate a friendly error messsage"
   ]
  },
  {
   "cell_type": "code",
   "execution_count": 31,
   "metadata": {},
   "outputs": [],
   "source": [
    "m_or_a=input(\"do you want me to multiply or add\")\n",
    "def three_arguments():\n",
    "    fight1=input(\"pick a number\")\n",
    "    fight1=float(fight1)\n",
    "    fight2=input(\"pick another number \")\n",
    "    fight2=float(fight2)\n",
    "    fight3=input(\"pick another number\")\n",
    "    fight3=float(fight3)\n",
    "    print({fight1}  + {fight2} +{fight3})\n",
    "#three_arguments()  \n",
    "\n",
    "\n",
    "def two_arguements():\n",
    "    num1=input(\"pick a number\")\n",
    "    num1=int(num1)\n",
    "    num2=input(\"pick another number\")\n",
    "    print({num1} * {num2})\n",
    "if m_or_a=\"multiply\":\n",
    "    two_arguements():\n",
    "if m_or_a=\"add\":\n",
    "    three_arguements():\n",
    "else:\n",
    "    print(\"sorry what I cant understand your accent\")\n",
    "    "
   ]
  },
  {
   "cell_type": "markdown",
   "metadata": {},
   "source": [
    "Exercise 5. \n",
    "Write a function to convert a test score to a grade where  \n",
    " - 90 - 100: A\n",
    " - 80 - 89:  B\n",
    " - 70 - 79:  C\n",
    " - 60 - 69:  D\n",
    " - < 60   :  F\n",
    " \n",
    "If a score is not between 0 and 100 then print out an error message. In the program, ask the user for a score and then call your function. "
   ]
  },
  {
   "cell_type": "code",
   "execution_count": 53,
   "metadata": {},
   "outputs": [],
   "source": [
    "\n",
    "def gradebook():\n",
    "    grade=input(\"hi enter a grade number to convert into a grade\")\n",
    "    grade=int(grade)\n",
    "    if grade>89:\n",
    "        print(\"the grade would be A\")\n",
    "    if grade>80:\n",
    "        print(\"the grade would be B\")\n",
    "    if grade>70:\n",
    "        print(\"the grade would be C\")\n",
    "    if grade>69:\n",
    "        print(\"the grade would be D\")\n",
    "    if grade>60:\n",
    "        print(\"the grade would be F\")\n",
    "    gradebook()\n",
    "        "
   ]
  },
  {
   "cell_type": "markdown",
   "metadata": {},
   "source": [
    "Exercise 6. Write a program to compute discounts for customers.  \n",
    "- For retail customers, \n",
    "    - if invoice total is greater than \\$100 then discount rate is 10\\%, otherwise no discount \n",
    "\n",
    "- For wholesale customers,\n",
    "    - if invoice total is greater than \\$500 then discount rate is 30\\%, otherwise discount rate is 20\\%\n",
    "    \n",
    "Get the type of customer and the invoice total from the user."
   ]
  },
  {
   "cell_type": "code",
   "execution_count": 39,
   "metadata": {},
   "outputs": [
    {
     "name": "stdout",
     "output_type": "stream",
     "text": [
      "hi are you a retail customer or a wholesale customerretail\n",
      "you get a 30% discount\n",
      "0\n",
      "how much is your bill200\n",
      "you get a 10% discount\n",
      "0\n"
     ]
    }
   ],
   "source": [
    "#?\n",
    "r_or_w=input(\"hi are you a retail customer or a wholesale customer\")\n",
    "if r_or_w== \"wholesale\":\n",
    "    w=input(\"how much is your bill\")\n",
    "    w=int(w)\n",
    "   \n",
    "if w>500:\n",
    "    print(\"you get a 30% discount\")\n",
    "    print(w%30)\n",
    "\n",
    "\n",
    "if r_or_w==\"retail\":\n",
    "    r=input(\"how much is your bill\")\n",
    "    r=int(r)\n",
    "if r>100:\n",
    "    print(\"you get a 10% discount\")\n",
    "    print(r%10)\n",
    "    \n",
    "    \n"
   ]
  },
  {
   "cell_type": "markdown",
   "metadata": {},
   "source": [
    "Exercise 7: Write a function that accepts two parameters (a and b) and returns a result of a/b.  In this function, try to catch any exception error.  Then, write a program to get two numbers from a user, call your function using these two numbers, and print out the result in a friendly format.  All input and print statements must be done in the main program. Repeat the process until user wants to quit the program. "
   ]
  },
  {
   "cell_type": "code",
   "execution_count": 54,
   "metadata": {},
   "outputs": [],
   "source": [
    "def execption_error(num,num2):\n",
    "    num=input(\"pick a number\")\n",
    "    num=int(num)\n",
    "    num2=input(\"pick another number\")\n",
    "    num2=int(num)\n",
    "execption_error(num,num2)  "
   ]
  },
  {
   "cell_type": "code",
   "execution_count": 55,
   "metadata": {},
   "outputs": [
    {
     "ename": "NameError",
     "evalue": "name 'num' is not defined",
     "output_type": "error",
     "traceback": [
      "\u001b[1;31m---------------------------------------------------------------------------\u001b[0m",
      "\u001b[1;31mNameError\u001b[0m                                 Traceback (most recent call last)",
      "\u001b[1;32m<ipython-input-55-3f0eeb76c157>\u001b[0m in \u001b[0;36m<module>\u001b[1;34m\u001b[0m\n\u001b[0;32m      1\u001b[0m \u001b[0mchoice\u001b[0m\u001b[1;33m=\u001b[0m\u001b[1;34m\"y\"\u001b[0m\u001b[1;33m\u001b[0m\u001b[1;33m\u001b[0m\u001b[0m\n\u001b[0;32m      2\u001b[0m \u001b[1;32mwhile\u001b[0m \u001b[0mchoice\u001b[0m\u001b[1;33m==\u001b[0m\u001b[1;34m\"y\"\u001b[0m\u001b[1;33m:\u001b[0m\u001b[1;33m\u001b[0m\u001b[1;33m\u001b[0m\u001b[0m\n\u001b[1;32m----> 3\u001b[1;33m     \u001b[0mexecption_error\u001b[0m\u001b[1;33m(\u001b[0m\u001b[0mnum\u001b[0m\u001b[1;33m,\u001b[0m \u001b[0mnum2\u001b[0m\u001b[1;33m)\u001b[0m\u001b[1;33m\u001b[0m\u001b[1;33m\u001b[0m\u001b[0m\n\u001b[0m\u001b[0;32m      4\u001b[0m     \u001b[0mchoice\u001b[0m\u001b[1;33m=\u001b[0m\u001b[0minput\u001b[0m\u001b[1;33m(\u001b[0m\u001b[1;34m\"do you want to continue(type n to quit)\"\u001b[0m\u001b[1;33m)\u001b[0m\u001b[1;33m\u001b[0m\u001b[1;33m\u001b[0m\u001b[0m\n\u001b[0;32m      5\u001b[0m     \u001b[0mprint\u001b[0m\u001b[1;33m(\u001b[0m\u001b[1;34m\"ok good bye\"\u001b[0m\u001b[1;33m)\u001b[0m\u001b[1;33m\u001b[0m\u001b[1;33m\u001b[0m\u001b[0m\n",
      "\u001b[1;31mNameError\u001b[0m: name 'num' is not defined"
     ]
    }
   ],
   "source": [
    "choice=\"y\"\n",
    "while choice==\"y\":\n",
    "    execption_error(num, num2)\n",
    "    choice=input(\"do you want to continue(type n to quit)\")\n",
    "    print(\"ok good bye\")\n"
   ]
  },
  {
   "cell_type": "markdown",
   "metadata": {},
   "source": [
    "Exercise 8: Write a function to generate a multiplication table. Then write a program to ask a user if user wants to generate a  mutiplication table for a random number or provide a number. The program should continue to run until a user wants to quit."
   ]
  },
  {
   "cell_type": "code",
   "execution_count": 60,
   "metadata": {},
   "outputs": [
    {
     "name": "stdout",
     "output_type": "stream",
     "text": [
      "do you want to pick a number or do you want me to(say pick a number)pick a number\n"
     ]
    },
    {
     "ename": "ValueError",
     "evalue": "invalid literal for int() with base 10: 'pick a number'",
     "output_type": "error",
     "traceback": [
      "\u001b[1;31m---------------------------------------------------------------------------\u001b[0m",
      "\u001b[1;31mValueError\u001b[0m                                Traceback (most recent call last)",
      "\u001b[1;32m<ipython-input-60-6b57cd2b677b>\u001b[0m in \u001b[0;36m<module>\u001b[1;34m\u001b[0m\n\u001b[0;32m      6\u001b[0m     \u001b[1;32mif\u001b[0m \u001b[0mnum\u001b[0m\u001b[1;33m==\u001b[0m\u001b[1;34m\"pick a number\"\u001b[0m\u001b[1;33m:\u001b[0m\u001b[1;33m\u001b[0m\u001b[1;33m\u001b[0m\u001b[0m\n\u001b[0;32m      7\u001b[0m         \u001b[0mint\u001b[0m\u001b[1;33m(\u001b[0m\u001b[0mr\u001b[0m\u001b[1;33m)\u001b[0m\u001b[1;33m\u001b[0m\u001b[1;33m\u001b[0m\u001b[0m\n\u001b[1;32m----> 8\u001b[1;33m \u001b[0mtimes_table\u001b[0m\u001b[1;33m(\u001b[0m\u001b[1;33m)\u001b[0m\u001b[1;33m\u001b[0m\u001b[1;33m\u001b[0m\u001b[0m\n\u001b[0m",
      "\u001b[1;32m<ipython-input-60-6b57cd2b677b>\u001b[0m in \u001b[0;36mtimes_table\u001b[1;34m()\u001b[0m\n\u001b[0;32m      2\u001b[0m \u001b[1;32mdef\u001b[0m \u001b[0mtimes_table\u001b[0m\u001b[1;33m(\u001b[0m\u001b[1;33m)\u001b[0m\u001b[1;33m:\u001b[0m\u001b[1;33m\u001b[0m\u001b[1;33m\u001b[0m\u001b[0m\n\u001b[0;32m      3\u001b[0m     \u001b[0mnum\u001b[0m\u001b[1;33m=\u001b[0m\u001b[0minput\u001b[0m\u001b[1;33m(\u001b[0m\u001b[1;34m\"do you want to pick a number or do you want me to(say pick a number)\"\u001b[0m\u001b[1;33m)\u001b[0m\u001b[1;33m\u001b[0m\u001b[1;33m\u001b[0m\u001b[0m\n\u001b[1;32m----> 4\u001b[1;33m     \u001b[0mnum\u001b[0m\u001b[1;33m=\u001b[0m\u001b[0mint\u001b[0m\u001b[1;33m(\u001b[0m\u001b[0mnum\u001b[0m\u001b[1;33m)\u001b[0m\u001b[1;33m\u001b[0m\u001b[1;33m\u001b[0m\u001b[0m\n\u001b[0m\u001b[0;32m      5\u001b[0m     \u001b[0mnum\u001b[0m\u001b[1;33m=\u001b[0m\u001b[0mstr\u001b[0m\u001b[1;33m(\u001b[0m\u001b[0mnum\u001b[0m\u001b[1;33m)\u001b[0m\u001b[1;33m\u001b[0m\u001b[1;33m\u001b[0m\u001b[0m\n\u001b[0;32m      6\u001b[0m     \u001b[1;32mif\u001b[0m \u001b[0mnum\u001b[0m\u001b[1;33m==\u001b[0m\u001b[1;34m\"pick a number\"\u001b[0m\u001b[1;33m:\u001b[0m\u001b[1;33m\u001b[0m\u001b[1;33m\u001b[0m\u001b[0m\n",
      "\u001b[1;31mValueError\u001b[0m: invalid literal for int() with base 10: 'pick a number'"
     ]
    }
   ],
   "source": [
    "import random as r\n",
    "def times_table():\n",
    "    num=input(\"do you want to pick a number or do you want me to(say pick a number)\")\n",
    "    num=int(num)\n",
    "    num=str(num)\n",
    "    if num==\"pick a number\":\n",
    "        int(r)\n",
    "times_table()    "
   ]
  },
  {
   "cell_type": "code",
   "execution_count": null,
   "metadata": {},
   "outputs": [],
   "source": [
    "choice=\"y\"\n",
    "while choice==\"y\":\n",
    "    choice=input(\"do you want to continue(press n to quit)\")\n",
    "    print(\"ok good bye\")"
   ]
  },
  {
   "cell_type": "markdown",
   "metadata": {},
   "source": [
    "Exercise 9: Write a function to draw a right-triangle using a number as a character.Then, write a program to generate a random number between 1 and 9, call your function with that random number.  The output should look something like this:\n",
    "\n",
    "        base: 5\n",
    "        5\n",
    "        55\n",
    "        555\n",
    "        5555\n",
    "        55555\n",
    "\n",
    "\n",
    "        base: 8\n",
    "        8\n",
    "        88\n",
    "        888\n",
    "        8888\n",
    "        88888\n",
    "        888888\n",
    "        8888888\n",
    "        88888888"
   ]
  },
  {
   "cell_type": "code",
   "execution_count": null,
   "metadata": {},
   "outputs": [],
   "source": [
    "def triangle():\n",
    "    base=input(\"pick a number to make a triangle \")\n",
    "    print(base)\n",
    "    print(base *2)\n",
    "    print(base *3)\n",
    "    print(base *4)\n",
    "    print(base *5)\n",
    "triangle()    "
   ]
  },
  {
   "cell_type": "code",
   "execution_count": null,
   "metadata": {},
   "outputs": [],
   "source": [
    "import random as r\n",
    "ret_val=r.randint(1,9)\n",
    "triangle()\n"
   ]
  },
  {
   "cell_type": "markdown",
   "metadata": {},
   "source": [
    "Exercise 10: Modify function from exercise 9 to show output like this:\n",
    "\n",
    "        base: 5\n",
    "            5\n",
    "           55\n",
    "          555\n",
    "         5555 \n",
    "        55555\n",
    "        \n",
    "        base: 8\n",
    "               8\n",
    "              88\n",
    "             888\n",
    "            8888\n",
    "           88888\n",
    "          888888\n",
    "         8888888\n",
    "        88888888 "
   ]
  },
  {
   "cell_type": "code",
   "execution_count": null,
   "metadata": {},
   "outputs": [],
   "source": []
  },
  {
   "cell_type": "code",
   "execution_count": null,
   "metadata": {},
   "outputs": [],
   "source": []
  }
 ],
 "metadata": {
  "kernelspec": {
   "display_name": "Python 3",
   "language": "python",
   "name": "python3"
  },
  "language_info": {
   "codemirror_mode": {
    "name": "ipython",
    "version": 3
   },
   "file_extension": ".py",
   "mimetype": "text/x-python",
   "name": "python",
   "nbconvert_exporter": "python",
   "pygments_lexer": "ipython3",
   "version": "3.8.5"
  }
 },
 "nbformat": 4,
 "nbformat_minor": 4
}
